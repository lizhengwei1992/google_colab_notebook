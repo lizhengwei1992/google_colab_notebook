{
  "nbformat": 4,
  "nbformat_minor": 0,
  "metadata": {
    "colab": {
      "name": "test_GPU.ipynb",
      "version": "0.3.2",
      "provenance": [],
      "collapsed_sections": [],
      "toc_visible": true,
      "include_colab_link": true
    },
    "kernelspec": {
      "name": "python3",
      "display_name": "Python 3"
    },
    "accelerator": "GPU"
  },
  "cells": [
    {
      "cell_type": "markdown",
      "metadata": {
        "id": "view-in-github",
        "colab_type": "text"
      },
      "source": [
        "[View in Colaboratory](https://colab.research.google.com/github/lizhengwei1992/google_colab_notebook/blob/master/test_enviremen.ipynb)"
      ]
    },
    {
      "metadata": {
        "id": "go3RUUK6soyq",
        "colab_type": "text"
      },
      "cell_type": "markdown",
      "source": [
        "# 测试环境的配置"
      ]
    },
    {
      "metadata": {
        "id": "jRUMufPmq8aw",
        "colab_type": "code",
        "colab": {
          "base_uri": "https://localhost:8080/",
          "height": 734
        },
        "outputId": "1dcc5a6f-3d24-495f-bafb-f98a0e323336"
      },
      "cell_type": "code",
      "source": [
        "#CPU\n",
        "!lscpu\n",
        "\n",
        "#GPU\n",
        "!nvidia-smi"
      ],
      "execution_count": 30,
      "outputs": [
        {
          "output_type": "stream",
          "text": [
            "Architecture:        x86_64\r\n",
            "CPU op-mode(s):      32-bit, 64-bit\r\n",
            "Byte Order:          Little Endian\r\n",
            "CPU(s):              2\r\n",
            "On-line CPU(s) list: 0,1\r\n",
            "Thread(s) per core:  2\r\n",
            "Core(s) per socket:  1\r\n",
            "Socket(s):           1\r\n",
            "NUMA node(s):        1\r\n",
            "Vendor ID:           GenuineIntel\r\n",
            "CPU family:          6\r\n",
            "Model:               63\r\n",
            "Model name:          Intel(R) Xeon(R) CPU @ 2.30GHz\r\n",
            "Stepping:            0\r\n",
            "CPU MHz:             2300.000\r\n",
            "BogoMIPS:            4600.00\r\n",
            "Hypervisor vendor:   KVM\r\n",
            "Virtualization type: full\r\n",
            "L1d cache:           32K\r\n",
            "L1i cache:           32K\r\n",
            "L2 cache:            256K\r\n",
            "L3 cache:            46080K\r\n",
            "NUMA node0 CPU(s):   0,1\r\n",
            "Flags:               fpu vme de pse tsc msr pae mce cx8 apic sep mtrr pge mca cmov pat pse36 clflush mmx fxsr sse sse2 ss ht syscall nx pdpe1gb rdtscp lm constant_tsc rep_good nopl xtopology nonstop_tsc eagerfpu pni pclmulqdq ssse3 fma cx16 sse4_1 sse4_2 x2apic movbe popcnt aes xsave avx f16c rdrand hypervisor lahf_lm abm kaiser fsgsbase tsc_adjust bmi1 avx2 smep bmi2 erms xsaveopt\n",
            "Wed Jun 27 10:07:29 2018       \n",
            "+-----------------------------------------------------------------------------+\n",
            "| NVIDIA-SMI 384.111                Driver Version: 384.111                   |\n",
            "|-------------------------------+----------------------+----------------------+\n",
            "| GPU  Name        Persistence-M| Bus-Id        Disp.A | Volatile Uncorr. ECC |\n",
            "| Fan  Temp  Perf  Pwr:Usage/Cap|         Memory-Usage | GPU-Util  Compute M. |\n",
            "|===============================+======================+======================|\n",
            "|   0  Tesla K80           Off  | 00000000:00:04.0 Off |                    0 |\n",
            "| N/A   31C    P8    28W / 149W |      0MiB / 11439MiB |      0%      Default |\n",
            "+-------------------------------+----------------------+----------------------+\n",
            "                                                                               \n",
            "+-----------------------------------------------------------------------------+\n",
            "| Processes:                                                       GPU Memory |\n",
            "|  GPU       PID   Type   Process name                             Usage      |\n",
            "|=============================================================================|\n",
            "|  No running processes found                                                 |\n",
            "+-----------------------------------------------------------------------------+\n"
          ],
          "name": "stdout"
        }
      ]
    },
    {
      "metadata": {
        "id": "EEEL64O9OdT6",
        "colab_type": "code",
        "colab": {}
      },
      "cell_type": "code",
      "source": [
        "import cv2\n",
        "import tensorflow as tf\n",
        "import os\n",
        "\n",
        "print(tf.__version__)\n",
        "print(os.getcwd())\n",
        "print(os.path.abspath(\"../\"))\n",
        "\n",
        "print(os.listdir('/'))\n"
      ],
      "execution_count": 0,
      "outputs": []
    }
  ]
}